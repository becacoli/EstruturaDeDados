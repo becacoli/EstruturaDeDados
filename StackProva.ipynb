{
  "nbformat": 4,
  "nbformat_minor": 0,
  "metadata": {
    "colab": {
      "name": "StackProva.ipynb",
      "provenance": []
    },
    "kernelspec": {
      "name": "python3",
      "display_name": "Python 3"
    },
    "language_info": {
      "name": "python"
    }
  },
  "cells": [
    {
      "cell_type": "markdown",
      "source": [
        "**Em um trabalho escolar, um professor de matemática pediu para que os alunos escrevessem\n",
        "expressões aritméticas de forma a exercitar tal conteúdo. Em sala de aula foi dito que uma expressão\n",
        "aritmética bem formada obedece as seguintes exigências:**\n",
        "\n",
        "* todo parênteses, colchetes ou chaves que for aberto deve ser fechado;\n",
        "* nenhum parênteses, colchetes ou chaves pode ser fechado sem antes ter sido aberto;\n",
        "* deve haver correspondência na ordem de abertura e fechamento de parênteses, colchetes ou chaves.\n",
        "Escreva um programa que recebe como entrada uma expressão aritmética e imprime “sim” se a\n",
        "expressão estiver correta e “não” caso contrário. Você pode assumir que os operadores e operandos\n",
        "estão escritos corretamente, pois o objetivo é verificar a abertura e fechamento de colchetes, parênteses\n",
        "e chaves. Implemente a estrutura de dados pilha da forma mais adequada para resolver o problema.**\n",
        "\n",
        "\n",
        "\n",
        "\n"
      ],
      "metadata": {
        "id": "0zpZq31XGLex"
      }
    },
    {
      "cell_type": "markdown",
      "source": [
        "IDEIAS:\n",
        "   - criar uma pilha para colocar os parenteses, colchetes e chaves\n",
        "   - testar usando dicionario com cada par\n",
        "   - comparar, se tiver o par retirar da lista (VERIFICAR PELO ULTIMO POSIÇÃO DA LISTA)\n",
        "   - NAO OU SIM "
      ],
      "metadata": {
        "id": "pxhgBPQAItfx"
      }
    },
    {
      "cell_type": "code",
      "execution_count": null,
      "metadata": {
        "id": "vSqPC5nxGDvQ",
        "colab": {
          "base_uri": "https://localhost:8080/"
        },
        "outputId": "fb900151-f96a-48ea-b6f1-3037c56786c7"
      },
      "outputs": [
        {
          "output_type": "stream",
          "name": "stdout",
          "text": [
            "Digite a expressão para validá-la: {[(1 + 2) + (3 + 4)]}\n",
            "{[(1 + 2) + (3 + 4)]}\n",
            "sim\n"
          ]
        }
      ],
      "source": [
        "class Stack:\n",
        "    def validate_expression(self, exp):\n",
        "        stack = []\n",
        "        \n",
        "        opening = {\"(\", \"[\", \"{\"}\n",
        "        closing = {\")\", \"]\", \"}\"}\n",
        "\n",
        "        pairs = {\"(\": \")\", \"[\": \"]\", \"{\": \"}\"} \n",
        "\n",
        "        for token in exp:\n",
        "            if token in opening:\n",
        "              stack.append(token)\n",
        "            \n",
        "            elif token in closing:\n",
        "                  #se a lista está vazia\n",
        "                if not stack:\n",
        "                  return \"não\"\n",
        "              \n",
        "                else:\n",
        "                    top = stack[-1]\n",
        "                    if pairs[top] == token:\n",
        "                      stack.pop()        \n",
        "                    else:\n",
        "                      return \"não\"\n",
        "\n",
        "        #a lista não está vazia\n",
        "        if stack:\n",
        "          return \"não\"\n",
        "            \n",
        "        return \"sim\"\n",
        "\n",
        "def main():\n",
        "\n",
        "  expression = Stack()\n",
        "\n",
        "  exp = input(\"Digite a expressão para validá-la: \")\n",
        "  print(exp)\n",
        "  print(expression.validate_expression(exp))\n",
        "\n",
        "main()"
      ]
    },
    {
      "cell_type": "markdown",
      "source": [
        "**2. Problema dos palíndromos. Um palíndromo é uma palavra ou frase que mantém o mesmo sentido\n",
        "quando lida de trás para frente. Palíndromos estão muito presentes na literatura e na publicidade, porque\n",
        "são palavras fáceis de memorizar. Exemplos de palavras palíndromas são arara, asa, osso, radar, reger,\n",
        "ralar, reviver, somávamos etc. Exemplos de nomes de pessoas que são palíndromos: Ada, Ana, Bob,\n",
        "Natan, Renner, Mussum, entre outros. Escreva um programa que recebe como entrada uma string que\n",
        "representa uma palavra e imprima na tela “sim” se a palavra é um palíndromo e “não” caso contrário.\n",
        "Você deve utilizar uma das estruturas de dados pilha para implementar esse programa.**"
      ],
      "metadata": {
        "id": "zOhyGBGuGMRC"
      }
    },
    {
      "cell_type": "markdown",
      "source": [
        "IDEIAS: \n",
        "- RETIRAR OS ESPAÇOS USANDO REPLACE E DEIXAR TUDO EM UM TAMANHO SÓ (LOWER OU UPPER)"
      ],
      "metadata": {
        "id": "GgtqedOOQ6Mh"
      }
    },
    {
      "cell_type": "code",
      "source": [
        "class Stack:\n",
        "    def __init__(self):\n",
        "      self.items = []\n",
        "\n",
        "    def push(self, data):\n",
        "      self.items.append(data)\n",
        "\n",
        "    def is_empty(self):\n",
        "      return self.items == []\n",
        "\n",
        "    def pop(self):\n",
        "      return self.items.pop()\n",
        "\n",
        "\n",
        "def main():\n",
        "   stack = Stack()\n",
        "\n",
        "   text = input(\"Digite um texto: \").lower().replace(\" \", \"\")  #deixar tudo lower para evitar confusão entre caracteres\n",
        "\n",
        "   for character in text:       \n",
        "       stack.push(character)\n",
        "\n",
        "   reversed_text = \"\"\n",
        "\n",
        "   while not stack.is_empty():\n",
        "      reversed_text = reversed_text + stack.pop()      \n",
        "\n",
        "   if text == reversed_text:\n",
        "      print(\"sim\")\n",
        "   else:\n",
        "      print(\"não\")\n",
        "\n",
        "main()"
      ],
      "metadata": {
        "id": "ZGrT5OjcGNDH",
        "colab": {
          "base_uri": "https://localhost:8080/"
        },
        "outputId": "49f9549d-b123-4c90-c96e-264cd8128761"
      },
      "execution_count": null,
      "outputs": [
        {
          "output_type": "stream",
          "name": "stdout",
          "text": [
            "Digite um texto: a cara rajada da jararaca\n",
            "sim\n"
          ]
        }
      ]
    }
  ]
}