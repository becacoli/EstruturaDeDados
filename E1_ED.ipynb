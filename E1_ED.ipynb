{
  "nbformat": 4,
  "nbformat_minor": 0,
  "metadata": {
    "colab": {
      "name": "E1-ED.ipynb",
      "provenance": []
    },
    "kernelspec": {
      "name": "python3",
      "display_name": "Python 3"
    },
    "language_info": {
      "name": "python"
    }
  },
  "cells": [
    {
      "cell_type": "markdown",
      "source": [
        "Quantidade de números negativos em uma lista."
      ],
      "metadata": {
        "id": "yizjHhQmdDZi"
      }
    },
    {
      "cell_type": "code",
      "source": [
        "def NumerosNegativos(lista):\n",
        "    i = 0\n",
        "    for numero in lista:\n",
        "        if numero < 0:\n",
        "            i += 1\n",
        "    return i\n",
        "\n",
        "lista = [-2, -1, 0, 3, 7, -6, 4]\n",
        "\n",
        "quantneg = NumerosNegativos(lista)\n",
        "\n",
        "print(f\"Exite {quantneg} números negativos nessa lista\")\n",
        "\n",
        "#Função -> O(n) "
      ],
      "metadata": {
        "colab": {
          "base_uri": "https://localhost:8080/"
        },
        "id": "tubcbpOKdDvh",
        "outputId": "2ab211d9-6f28-422b-f936-80bcd03c085c"
      },
      "execution_count": 1,
      "outputs": [
        {
          "output_type": "stream",
          "name": "stdout",
          "text": [
            "Exite 3 números negativos nessa lista\n"
          ]
        }
      ]
    },
    {
      "cell_type": "markdown",
      "source": [
        "Valores abaixo da média em um conjunto"
      ],
      "metadata": {
        "id": "xjMBG413dJn8"
      }
    },
    {
      "cell_type": "code",
      "source": [
        "def Media(lista):\n",
        "    return sum(lista)/len(lista)\n",
        "\n",
        "def AbaixoDaMedia(media, lista):\n",
        "    abaixomedia = []\n",
        "    for numero in lista:\n",
        "        if numero < media:\n",
        "            abaixomedia.append(numero)\n",
        "    return abaixomedia\n",
        "            \n",
        "\n",
        "conjunto = [4, 7, 9, 14, 3]\n",
        "\n",
        "print(f\"A média do conjunto é {Media(conjunto)} e os valores abaixo da média contidos na conjunto são {AbaixoDaMedia(Media(conjunto), conjunto)}\")\n",
        "\n",
        "#Função -> O(n) "
      ],
      "metadata": {
        "colab": {
          "base_uri": "https://localhost:8080/"
        },
        "id": "OCJfwsXKdJ6D",
        "outputId": "34222f2d-a0d4-47bc-cc50-c863f528361d"
      },
      "execution_count": 2,
      "outputs": [
        {
          "output_type": "stream",
          "name": "stdout",
          "text": [
            "A média do conjunto é 7.4 e os valores abaixo da média contidos na conjunto são [4, 7, 3]\n"
          ]
        }
      ]
    },
    {
      "cell_type": "markdown",
      "source": [
        "Fatorial de um número"
      ],
      "metadata": {
        "id": "v3AORFH9dTcD"
      }
    },
    {
      "cell_type": "code",
      "source": [
        "def Fatorial(numero):\n",
        "    n = numero\n",
        "    fatorial = 1\n",
        "\n",
        "    if n == 0:\n",
        "        return \"O fatorial é 0\"\n",
        "    \n",
        "    while n > 0:\n",
        "        fatorial *= n\n",
        "        n -= 1\n",
        "    return fatorial\n",
        "\n",
        "numero = int(input(\"Digite um número: \"))\n",
        "\n",
        "fato = Fatorial(numero)\n",
        "\n",
        "print(f\"O fatorial de {numero} é {fato}\")\n",
        "\n",
        "#Função -> O(n) "
      ],
      "metadata": {
        "colab": {
          "base_uri": "https://localhost:8080/"
        },
        "id": "Z79kzJmSdTyR",
        "outputId": "8b672b18-5ca8-4b86-8b69-ea3b15d902b6"
      },
      "execution_count": 3,
      "outputs": [
        {
          "output_type": "stream",
          "name": "stdout",
          "text": [
            "Digite um número: 3\n",
            "O fatorial de 3 é 6\n"
          ]
        }
      ]
    },
    {
      "cell_type": "markdown",
      "source": [
        "Identificar a soma máxima entre dois elementos de um conjunto"
      ],
      "metadata": {
        "id": "wfHvrVUAdax9"
      }
    },
    {
      "cell_type": "code",
      "source": [
        "def Soma_Max(conjunto):\n",
        "\n",
        "    maior1 = 0\n",
        "    maior2 = 0\n",
        "\n",
        "    for numero in conjunto:\n",
        "        if numero > maior1:\n",
        "            maior1 = numero\n",
        "    conjunto.remove(maior1)\n",
        "    \n",
        "    for numero in conjunto:\n",
        "        if numero > maior2:\n",
        "            maior2 = numero\n",
        "    conjunto.remove(maior2)\n",
        "\n",
        "    return maior1 + maior2\n",
        "\n",
        "\n",
        "conjunto = [9, 10, 2, 19, 5, 8, 23]\n",
        "soma_max = Soma_Max(conjunto)\n",
        "\n",
        "print(f\"A soma máxima do conjunto é {soma_max}\")\n",
        "\n",
        "#Função de custo -> O(n) "
      ],
      "metadata": {
        "colab": {
          "base_uri": "https://localhost:8080/"
        },
        "id": "qRgT-nhadbfU",
        "outputId": "8107aa86-db95-4c61-f114-c1c31fac6132"
      },
      "execution_count": 4,
      "outputs": [
        {
          "output_type": "stream",
          "name": "stdout",
          "text": [
            "A soma máxima do conjunto é 42\n"
          ]
        }
      ]
    },
    {
      "cell_type": "markdown",
      "source": [
        "Conjunto de números sem valores repetidos."
      ],
      "metadata": {
        "id": "NNVRW_5udqJm"
      }
    },
    {
      "cell_type": "code",
      "source": [
        "def NumerosRepetidos(lista):\n",
        "    nova_lista = []    #sem números repetidos\n",
        "    \n",
        "    for numero in lista:\n",
        "        if numero not in nova_lista:\n",
        "            nova_lista.append(numero)\n",
        "    return nova_lista\n",
        "\n",
        "conjunto = [1, 1, 3, 8, 9, 1, 3, 2, 3, 1, 10]\n",
        "\n",
        "print(NumerosRepetidos(conjunto))\n",
        "\n",
        "#Função -> O(n) "
      ],
      "metadata": {
        "colab": {
          "base_uri": "https://localhost:8080/"
        },
        "id": "6hYLWmqVdqvz",
        "outputId": "03368640-ce54-4236-e17e-9a08c7fa7d9d"
      },
      "execution_count": 5,
      "outputs": [
        {
          "output_type": "stream",
          "name": "stdout",
          "text": [
            "[1, 3, 8, 9, 2, 10]\n"
          ]
        }
      ]
    },
    {
      "cell_type": "markdown",
      "source": [
        "Intersecção de duas listas"
      ],
      "metadata": {
        "id": "4xtQhIDld1Nn"
      }
    },
    {
      "cell_type": "code",
      "source": [
        "def Intersec(a, b):\n",
        "    inter = []      #Intersecção das novas listas\n",
        "\n",
        "    for numero in a:                \n",
        "        if numero in b:             \n",
        "            inter.append(numero)\n",
        "    return inter\n",
        "\n",
        "def FormarLista(numero):\n",
        "    lista = []\n",
        "    for x in range(numero):\n",
        "        num = int(input(f\"Digite algum número para a lista: \"))\n",
        "        lista.append(num)\n",
        "    return lista\n",
        "\n",
        "\n",
        "numeroelement = int(input(\"Digite quantos números terá a lista 1: \"))\n",
        "numeroelement2 = int(input(\"Digite quantos números terá a lista 2: \"))\n",
        "\n",
        "ListaA = FormarLista(numeroelement)\n",
        "print(\"Agora para os valores serão para a segunda lista\")\n",
        "ListaB = FormarLista(numeroelement2)\n",
        "\n",
        "listaFinal = Intersec(ListaA, ListaB)\n",
        "\n",
        "print(listaFinal)\n",
        "\n",
        "#Função -> O(n) "
      ],
      "metadata": {
        "colab": {
          "base_uri": "https://localhost:8080/"
        },
        "id": "Wv4n3RKBd1c6",
        "outputId": "d1c998b0-7e39-460e-a0e6-cc04b442b79e"
      },
      "execution_count": 6,
      "outputs": [
        {
          "output_type": "stream",
          "name": "stdout",
          "text": [
            "Digite quantos números terá a lista 1: 4\n",
            "Digite quantos números terá a lista 2: 5\n",
            "Digite algum número para a lista: 4\n",
            "Digite algum número para a lista: 2\n",
            "Digite algum número para a lista: 9\n",
            "Digite algum número para a lista: 13\n",
            "Agora para os valores serão para a segunda lista\n",
            "Digite algum número para a lista: 9\n",
            "Digite algum número para a lista: 10\n",
            "Digite algum número para a lista: 0\n",
            "Digite algum número para a lista: 1\n",
            "Digite algum número para a lista: 2\n",
            "[2, 9]\n"
          ]
        }
      ]
    },
    {
      "cell_type": "markdown",
      "source": [
        "Quebrando um senha de quatro dígitos."
      ],
      "metadata": {
        "id": "WnvaPh2feEVB"
      }
    },
    {
      "cell_type": "code",
      "source": [
        "def QuebrarSenha(senha):\n",
        "    nums = ['0', '1', '2', '3', '4', '5', '6', '7', '8', '9']\n",
        "    quebra = list(\"0000\")\n",
        "\n",
        "    if len(senha) != 4:\n",
        "        print(\"Esta senha não tem quatro dígitos!\")\n",
        "    else:\n",
        "        for y in range(len(senha)):                       #Tamanho da senha\n",
        "            for x in nums:\n",
        "                if quebra[y] != senha[y]:\n",
        "                    quebra[y] = x\n",
        "        print(\"Senha quebrada com sucesso!\")\n",
        "        return quebra \n",
        "\n",
        "senha = list(input(\"Digite sua senha: \"))\n",
        "\n",
        "QuebrarSenha(senha)\n",
        "\n",
        "#Função -> O(n²) "
      ],
      "metadata": {
        "colab": {
          "base_uri": "https://localhost:8080/"
        },
        "id": "rdovufuFeEjq",
        "outputId": "7d491f38-4b0b-4fe2-9e42-9177e975e54d"
      },
      "execution_count": 7,
      "outputs": [
        {
          "output_type": "stream",
          "name": "stdout",
          "text": [
            "Digite sua senha: 1342\n",
            "Senha quebrada com sucesso!\n"
          ]
        },
        {
          "output_type": "execute_result",
          "data": {
            "text/plain": [
              "['1', '3', '4', '2']"
            ]
          },
          "metadata": {},
          "execution_count": 7
        }
      ]
    }
  ]
}