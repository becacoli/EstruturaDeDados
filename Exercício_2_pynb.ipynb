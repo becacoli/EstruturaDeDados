{
  "nbformat": 4,
  "nbformat_minor": 0,
  "metadata": {
    "colab": {
      "name": "Exercício-2.pynb",
      "provenance": [],
      "include_colab_link": true
    },
    "kernelspec": {
      "name": "python3",
      "display_name": "Python 3"
    },
    "language_info": {
      "name": "python"
    }
  },
  "cells": [
    {
      "cell_type": "markdown",
      "metadata": {
        "id": "view-in-github",
        "colab_type": "text"
      },
      "source": [
        "<a href=\"https://colab.research.google.com/github/becacoli/Atividades---ED/blob/main/Exerc%C3%ADcio_2_pynb.ipynb\" target=\"_parent\"><img src=\"https://colab.research.google.com/assets/colab-badge.svg\" alt=\"Open In Colab\"/></a>"
      ]
    },
    {
      "cell_type": "markdown",
      "source": [
        "**1. Implemente uma função recursiva que, dados dois\n",
        "números inteiros x e n, calcule o valor de x.n**"
      ],
      "metadata": {
        "id": "gDDU9d6YTEW1"
      }
    },
    {
      "cell_type": "code",
      "source": [
        "def multiplica(x,n):   #NÚMEROS INTEIROS\n",
        "  \n",
        "  if n == 0:              #CASO BASE\n",
        "    return 0\n",
        "  elif n < 0:\n",
        "    return -(x - multiplica(x, n + 1))\n",
        "  else:\n",
        "    return (x + multiplica(x, n - 1))\n",
        "\n",
        "multiplica(int(input(\"Digite um valor para x: \")), int(input(\"Digite um valor para n: \")))"
      ],
      "metadata": {
        "colab": {
          "base_uri": "https://localhost:8080/"
        },
        "id": "3sCYmb0QTHDL",
        "outputId": "4e7740c3-dd24-43f8-b58f-c15fedc697ac"
      },
      "execution_count": null,
      "outputs": [
        {
          "name": "stdout",
          "output_type": "stream",
          "text": [
            "Digite um valor para x: 3\n",
            "Digite um valor para n: -2\n"
          ]
        },
        {
          "output_type": "execute_result",
          "data": {
            "text/plain": [
              "-6"
            ]
          },
          "metadata": {},
          "execution_count": 6
        }
      ]
    },
    {
      "cell_type": "markdown",
      "source": [
        "**2. Implemente uma função recursiva que, dados dois\n",
        "números inteiros x e n, calcule o valor de x^n**"
      ],
      "metadata": {
        "id": "xA4hVshDTHWR"
      }
    },
    {
      "cell_type": "code",
      "source": [
        "#Nesse caso, devemos lembrar o caso base da potência\n",
        "\n",
        "def potencia(base, expoente): #onde x vai ser a base e o n vai ser o expoente\n",
        "  if expoente == 0:           #CASO BASE\n",
        "    return 1\n",
        "  else:\n",
        "    return base * potencia(base, expoente - 1)\n",
        "\n",
        "potencia(int(input(\"Digite um valor para a base da potência: \")), int(input(\"Digite um valor para o expoente da potência: \")))"
      ],
      "metadata": {
        "colab": {
          "base_uri": "https://localhost:8080/"
        },
        "id": "40He96LhTOtp",
        "outputId": "3f6c0978-d181-4cf3-946c-d72b3a85518d"
      },
      "execution_count": null,
      "outputs": [
        {
          "name": "stdout",
          "output_type": "stream",
          "text": [
            "Digite um valor para a base da potência: 4\n",
            "Digite um valor para o expoente da potência: 3\n"
          ]
        },
        {
          "output_type": "execute_result",
          "data": {
            "text/plain": [
              "64"
            ]
          },
          "metadata": {},
          "execution_count": 8
        }
      ]
    },
    {
      "cell_type": "markdown",
      "source": [
        "**3. Implemente uma função recursiva que, dada uma lista\n",
        "de inteiros ordenada, busque por um valor**"
      ],
      "metadata": {
        "id": "0Gh0qb6gTO7v"
      }
    },
    {
      "cell_type": "code",
      "source": [
        "def busca_bin(lista, chave ):\n",
        "  if len(lista) == 0:\n",
        "    return \"Não encontrei\"\n",
        "  else:\n",
        "    meio = len(lista)//2\n",
        "    if lista[meio] == chave:\n",
        "      return \"Encontrei\"chave\n",
        "    else:\n",
        "      if chave < lista[meio]:\n",
        "        return busca_bin(lista[:meio],chave)   #Se o meio for maior que a chave, então vamos cortar de novo mas do inicio da lista\n",
        "      else: \n",
        "        return busca_bin(lista[meio + 1:], chave) #Se a chave for maior que o meio, começamos a cortar do final \n",
        "\n",
        "lista = [0, 1, 2, 5, 6, 7, 8, 13, 17, 19, 23]\n",
        "print(busca_bin(lista, 13))"
      ],
      "metadata": {
        "colab": {
          "base_uri": "https://localhost:8080/"
        },
        "id": "VxP0mtoZZVlN",
        "outputId": "f375462c-b643-4187-91d5-44d1860867f4"
      },
      "execution_count": null,
      "outputs": [
        {
          "output_type": "stream",
          "name": "stdout",
          "text": [
            "Encontrei\n"
          ]
        }
      ]
    }
  ]
}