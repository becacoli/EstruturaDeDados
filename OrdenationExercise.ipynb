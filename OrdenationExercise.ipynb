{
  "nbformat": 4,
  "nbformat_minor": 0,
  "metadata": {
    "colab": {
      "name": "OrdenationExercise.ipynb",
      "provenance": [],
      "collapsed_sections": []
    },
    "kernelspec": {
      "name": "python3",
      "display_name": "Python 3"
    },
    "language_info": {
      "name": "python"
    }
  },
  "cells": [
    {
      "cell_type": "markdown",
      "source": [
        "1. Implemente uma função que recebe 3 listas ordenadas e combina estas listas de modo que a combinação resultante é uma lista ordenada, seguindo o princípio de combinação do merge sort. Informe qual o custo do seu algoritmo no pior caso"
      ],
      "metadata": {
        "id": "kK8TPNjWQpYt"
      }
    },
    {
      "cell_type": "code",
      "execution_count": 1,
      "metadata": {
        "colab": {
          "base_uri": "https://localhost:8080/"
        },
        "id": "huPAx968Pum7",
        "outputId": "986ff286-d9ef-4ea1-b82b-5c7eb7b42dc0"
      },
      "outputs": [
        {
          "output_type": "execute_result",
          "data": {
            "text/plain": [
              "[3, 4, 5, 6, 7, 9, 11, 12, 16, 17, 18, 20, 21, 22, 25]"
            ]
          },
          "metadata": {},
          "execution_count": 1
        }
      ],
      "source": [
        "def combinacao(lista1, lista2, lista3):\n",
        "  listaResultante = [None] * (len(lista1)+len(lista2)+len(lista3))\n",
        "\n",
        "  i = j = k = 0\n",
        "\n",
        "  for c in range(len(listaResultante)):\n",
        "    v1 = lista1[i] if i < len(lista1) else float(\"inf\")\n",
        "    v2 = lista2[j] if j < len(lista2) else float(\"inf\")\n",
        "    v3 = lista3[k] if k < len(lista3) else float(\"inf\")\n",
        "\n",
        "    if v1<=v2 and v1<=v3:\n",
        "      listaResultante[c] = v1\n",
        "      i+=1\n",
        "    elif v2<=v1 and v2<=v3:\n",
        "      listaResultante[c] = v2\n",
        "      j+=1\n",
        "    else:\n",
        "      listaResultante[c] = v3\n",
        "      k+=1\n",
        "  return listaResultante\n",
        "\n",
        "\n",
        "lista1 = [3, 4, 5, 6, 7]\n",
        "lista2 = [9, 12, 18, 21, 22, 25]\n",
        "lista3 = [11, 16, 17, 20]\n",
        "\n",
        "combinacao(lista1, lista2, lista3)"
      ]
    },
    {
      "cell_type": "markdown",
      "source": [
        "2. Um vetor $v$ tem um pivô natural $v_p$ se todo elemento $v_i$ que vem antes da posição $p$ é menor ou igual a $v_i$ ($v_i \\\\leq v_p$, para todo $i \\\\leq p$) e todo elemento $v_j$ que vem depois da posição $p$ é maior que $v_p$ ($v_p < v_j$, para todo $j > p$). O primeiro e o ultimo elemento não podem ser pivôs. Implemente uma função que recebe uma lista e retorna a posição do pivô natural, caso ele exista. Informe o custo do seu algoritmo no pior caso."
      ],
      "metadata": {
        "id": "jPi7QjHDVOIo"
      }
    },
    {
      "cell_type": "code",
      "source": [
        "def getPivo(lista):\n",
        "  pivo = 0\n",
        "\n",
        "  for c in range(1, len(lista) - 1):       #o pivo não pode ser o primeiro elemento nem o último da lista\n",
        "      #verificar se o elemento c é maior ou igual aos anteriores\n",
        "      i = c - 1\n",
        "      while i >= 0 and lista[i] <= lista[c]:\n",
        "          i -= 1\n",
        "      if i < 0:\n",
        "         #verificar se o elemento c é menor que todos os posteriores\n",
        "         j = c + 1        #pretendente a pivô\n",
        "         while j < len(lista) and lista[c] < lista[j]:\n",
        "           j += 1\n",
        "         if j == len(lista):\n",
        "           pivo = c\n",
        "           return pivo\n",
        "  return -1\n",
        "\n",
        "lista = [1,5,3,2,6,8,7,10]\n",
        "\n",
        "getPivo(lista)\n"
      ],
      "metadata": {
        "colab": {
          "base_uri": "https://localhost:8080/"
        },
        "id": "gGJeZmJGVPS9",
        "outputId": "eecbe23c-f9d3-40f9-972c-b0904af6a869"
      },
      "execution_count": 3,
      "outputs": [
        {
          "output_type": "execute_result",
          "data": {
            "text/plain": [
              "4"
            ]
          },
          "metadata": {},
          "execution_count": 3
        }
      ]
    },
    {
      "cell_type": "markdown",
      "source": [
        "3. O algoritmo insertion sort funciona inserindo o $i$-ésimo elemento na posição correta na ordenação. Para isso, ele verifica a posição correta desse valor do início até a posição $i$, que se mantém sempre ordenada. O custo para se inserir o elemento $i$ na posição correta é O(n) no pior caso. Você, que é um cientista da computação muito esperto, identificou que usando a busca binária, você pode reduzir o custo de inserção para O(logn) fazendo uma busca binária para encontrar a posição correta para inserir o elemento $i$ a cada rodada do algoritmo. Implemente a função que, utilizando busca binária, recebe uma lista ordenada e um valor $v$ e retorna a posição na lista onde $v$ deve ser inserido para que a lista permaneça ordenada."
      ],
      "metadata": {
        "id": "A3vkDJwBcG6I"
      }
    },
    {
      "cell_type": "code",
      "source": [
        "def inserirInteligente(lista, chave, ini, fim):\n",
        "  if ini > fim:\n",
        "     return ini\n",
        "\n",
        "  meio = (ini+fim)//2\n",
        "\n",
        "  if chave == lista[meio]:\n",
        "    return meio                  #RETORNANDO A POSIÇÃO\n",
        "  else:\n",
        "    if chave < lista[meio]:\n",
        "      return inserirInteligente(lista, chave, ini, meio - 1)\n",
        "    else:\n",
        "      return inserirInteligente(lista, chave, meio + 1, fim)\n",
        "\n",
        "lista = [-2,-1,1,2,3,4,6,7,8,9]\n",
        "valor = 5\n",
        "\n",
        "inserirInteligente(lista, valor, 0, len(lista) - 1)"
      ],
      "metadata": {
        "colab": {
          "base_uri": "https://localhost:8080/"
        },
        "id": "-4TcNJMEe_kQ",
        "outputId": "9fa3f5ab-f429-49f1-c2d6-4bc14d01e644"
      },
      "execution_count": 6,
      "outputs": [
        {
          "output_type": "execute_result",
          "data": {
            "text/plain": [
              "6"
            ]
          },
          "metadata": {},
          "execution_count": 6
        }
      ]
    }
  ]
}