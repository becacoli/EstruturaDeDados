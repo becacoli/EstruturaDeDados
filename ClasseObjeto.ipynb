{
  "nbformat": 4,
  "nbformat_minor": 0,
  "metadata": {
    "colab": {
      "name": "ClasseObjeto.ipynb",
      "provenance": []
    },
    "kernelspec": {
      "name": "python3",
      "display_name": "Python 3"
    },
    "language_info": {
      "name": "python"
    }
  },
  "cells": [
    {
      "cell_type": "markdown",
      "source": [
        "* **Pilha com arranjo ->** é melhor quando sabe-se o tamanho da pilha\n",
        "\n",
        "* **Ponteiro:** Referência para um objeto\n",
        "\n",
        "* **Pilha encadeada ->** Usamos ponteiro, estrutura referenciada, para estruturar a pilha. USAMOS QUANDO NÃO SABEMOS O TAMANHO DA PILHA.\n",
        "\n",
        "\n",
        "---\n",
        "Temos que salvar o número do topo para depois atualizar o topo para o proximo valor, fazer isso lembra o endereço de memória do topo anterior.\n"
      ],
      "metadata": {
        "id": "zB2wyJzjHhRn"
      }
    },
    {
      "cell_type": "markdown",
      "source": [
        "## QUESTAO CLASSE"
      ],
      "metadata": {
        "id": "LaGQoPMYdpr-"
      }
    },
    {
      "cell_type": "code",
      "execution_count": null,
      "metadata": {
        "id": "Xe46mWaAqQvO"
      },
      "outputs": [],
      "source": [
        "class Produto:\n",
        "    nome = ''\n",
        "    marca = ''\n",
        "    valor = 0\n",
        "    qtd_estoque = 0\n",
        "    \n",
        "    def __init__(self,_nome,_marca,_valor, _qtd_estoque):\n",
        "        self.nome = _nome\n",
        "        self.marca = _marca\n",
        "        self.valor = _valor\n",
        "        self.qtd_estoque = _qtd_estoque\n",
        "        \n",
        "    def __str__(self):\n",
        "        return \"Nome: \"+self.nome+\"\\nMarca: \"+self.marca+'\\nValor: '+str(self.valor)+'\\nQuantidade em estoque: '+str(self.qtd_estoque)\n",
        "    \n",
        "    def vender(self,quantidade):\n",
        "        if self.qtd_estoque>=quantidade:\n",
        "            self.qtd_estoque -=quantidade\n",
        "        else:\n",
        "            print('Erro: quantidade insuficiente')"
      ]
    },
    {
      "cell_type": "code",
      "source": [
        "produto2 = Produto('cuscuz','coringa',6,10)\n",
        "print(produto2)"
      ],
      "metadata": {
        "colab": {
          "base_uri": "https://localhost:8080/"
        },
        "id": "siOqPdh3qjwb",
        "outputId": "890e7555-d015-4b3d-c95a-fc4f9596b103"
      },
      "execution_count": null,
      "outputs": [
        {
          "output_type": "stream",
          "name": "stdout",
          "text": [
            "Nome: cuscuz\n",
            "Marca: coringa\n",
            "Valor: 6\n",
            "Quantidade em estoque: 10\n"
          ]
        }
      ]
    },
    {
      "cell_type": "code",
      "source": [
        "produto2.vender(8)"
      ],
      "metadata": {
        "id": "J4dxn9uYqnEL"
      },
      "execution_count": null,
      "outputs": []
    },
    {
      "cell_type": "code",
      "source": [
        "print(produto2)"
      ],
      "metadata": {
        "colab": {
          "base_uri": "https://localhost:8080/"
        },
        "id": "ddcvsqZ9r9IA",
        "outputId": "bc6beb91-ab18-419c-c3f4-d7f71b89ba67"
      },
      "execution_count": null,
      "outputs": [
        {
          "output_type": "stream",
          "name": "stdout",
          "text": [
            "Nome: cuscuz\n",
            "Marca: coringa\n",
            "Valor: 6\n",
            "Quantidade em estoque: 2\n"
          ]
        }
      ]
    },
    {
      "cell_type": "code",
      "source": [
        "produto2.vender(4)"
      ],
      "metadata": {
        "colab": {
          "base_uri": "https://localhost:8080/"
        },
        "id": "TULSTIw3sF_b",
        "outputId": "dd66e577-3d9e-4c87-b2dc-1522c28645df"
      },
      "execution_count": null,
      "outputs": [
        {
          "output_type": "stream",
          "name": "stdout",
          "text": [
            "Erro: quantidade insuficiente\n"
          ]
        }
      ]
    },
    {
      "cell_type": "markdown",
      "source": [
        "## STACK (PILHAS) EXEMPLO DE PILHA COM ARRANJO"
      ],
      "metadata": {
        "id": "pf1gr34odjeI"
      }
    },
    {
      "cell_type": "markdown",
      "source": [
        "Pilhas são do tipo FILO (FIRST IN LAST OUT -> primeiro a entrar último a sair)"
      ],
      "metadata": {
        "id": "pvf0ObnpePcH"
      }
    },
    {
      "cell_type": "code",
      "source": [
        "class Pilha:\n",
        "    itens = []\n",
        "    topo = 0\n",
        "    \n",
        "    # criar\n",
        "    def __init__(self,tamanho):\n",
        "        self.itens = [None]*tamanho\n",
        "        \n",
        "    def inserir(self,item):\n",
        "        if self.topo<len(self.itens):\n",
        "            self.itens[self.topo] = item\n",
        "            self.topo += 1\n",
        "        else:\n",
        "            print('Erro na insercao de',item)\n",
        "        \n",
        "    def remover(self):\n",
        "        if self.topo != 0:\n",
        "            self.topo -= 1\n",
        "            item = self.itens[self.topo]\n",
        "            return item \n",
        "        else:\n",
        "            print('Erro na remocao')\n",
        "            return None\n",
        "    \n",
        "    def imprimir(self):\n",
        "        for i in range(self.topo-1,-1,-1):\n",
        "            print(self.itens[i])"
      ],
      "metadata": {
        "id": "iq6Vv1kGdjrX"
      },
      "execution_count": null,
      "outputs": []
    },
    {
      "cell_type": "code",
      "source": [
        "p1 = Pilha(10)\n",
        "p1.imprimir()\n",
        "p1.inserir((1,'google.com'))\n",
        "p1.inserir((2,'ava.ead.ufal.br'))\n",
        "p1.inserir((3,'sistemas.ufal.br'))\n",
        "p1.inserir((4,'instagram.com'))\n",
        "p1.inserir((5,'instagram.com'))\n",
        "p1.inserir((6,'instagram.com'))\n",
        "p1.imprimir()"
      ],
      "metadata": {
        "colab": {
          "base_uri": "https://localhost:8080/"
        },
        "id": "HyzoNNMseIYj",
        "outputId": "2d052f03-1c3f-4683-acfb-97e28d4bba1b"
      },
      "execution_count": null,
      "outputs": [
        {
          "output_type": "stream",
          "name": "stdout",
          "text": [
            "(6, 'instagram.com')\n",
            "(5, 'instagram.com')\n",
            "(4, 'instagram.com')\n",
            "(3, 'sistemas.ufal.br')\n",
            "(2, 'ava.ead.ufal.br')\n",
            "(1, 'google.com')\n"
          ]
        }
      ]
    },
    {
      "cell_type": "code",
      "source": [
        "p1.remover()\n",
        "p1.imprimir()"
      ],
      "metadata": {
        "colab": {
          "base_uri": "https://localhost:8080/"
        },
        "id": "S3MqfhZ8eLwZ",
        "outputId": "26dc6f50-5b41-4c58-9412-c2ba8b29ea32"
      },
      "execution_count": null,
      "outputs": [
        {
          "output_type": "stream",
          "name": "stdout",
          "text": [
            "(5, 'instagram.com')\n",
            "(4, 'instagram.com')\n",
            "(3, 'sistemas.ufal.br')\n",
            "(2, 'ava.ead.ufal.br')\n",
            "(1, 'google.com')\n"
          ]
        }
      ]
    },
    {
      "cell_type": "markdown",
      "source": [
        "##PILHA ENCADEADA"
      ],
      "metadata": {
        "id": "e0D6c67GLlAV"
      }
    },
    {
      "cell_type": "code",
      "source": [
        "class Celula:\n",
        "    item = None\n",
        "    proximo = None                  \n",
        "    \n",
        "    def __init__()"
      ],
      "metadata": {
        "id": "35bC8j_dLzVT"
      },
      "execution_count": null,
      "outputs": []
    },
    {
      "cell_type": "code",
      "source": [
        "class Pilha:\n",
        "  def inserir(self, item):\n",
        "    pass\n",
        "    #criar celula\n",
        "    #celular apontar para o topo anterior\n",
        "    #topo apontar para a nova celular\n",
        "    #incrementar o tamanho\n",
        "\n",
        "\n",
        "  #def remover\n",
        "\n",
        "\n",
        "  #def imprimir\n",
        "      #enquanto a celula tiver proximo\n",
        "      #imprime o topo\n",
        "      #imprime topo.proximo"
      ],
      "metadata": {
        "id": "B5uJ7xzMOb1U"
      },
      "execution_count": null,
      "outputs": []
    },
    {
      "cell_type": "markdown",
      "source": [
        "## QUESTOES FEITAS NA SALA"
      ],
      "metadata": {
        "id": "XaBUFJTcMMGx"
      }
    },
    {
      "cell_type": "markdown",
      "source": [
        "Você está implementando um navegador web. Dentro das várias funcionalidades a serem implementadas, uma delas é o histórico de navegação, que permite ao usuário poder voltar para páginas já vistas. Crie uma função python para implementar essa funcionalidade. (COMO NAO SABEMOS O NUMERO DE INFORMAÇÕES ENTÃO USAREMOS UMA PILHA REFERENCIADA)"
      ],
      "metadata": {
        "id": "CSLH7iVZMwi6"
      }
    },
    {
      "cell_type": "code",
      "source": [
        "class Navegador:          #CRIANDO A CLASSE DO CONSTRUTOR (VAI RECEBER A PRIMEIRA INFORMAÇÃO)\n",
        "    page = None\n",
        "    next = None\n",
        "\n",
        "    def __init__(self, page):\n",
        "        self.page = page\n",
        "\n",
        "class Nave:                     #PILHA\n",
        "\n",
        "   top = None\n",
        "   tam = 0\n",
        "\n",
        "   def NewPage(self, page):\n",
        "      pag = Navegador(page);\n",
        "      pag.next = self.top\n",
        "      self.top = pag\n",
        "      self.tam += 1\n",
        "\n",
        "   \n",
        "   def GoBackPage(self):\n",
        "      if self.tam > 0:\n",
        "          pag = self.top\n",
        "          page = pag.page\n",
        "\n",
        "          self.top = pag.next\n",
        "          del pag\n",
        "\n",
        "          self.tam -= 1\n",
        "\n",
        "          return page\n",
        "      else:\n",
        "        print(\"Sem páginas anteriores\")\n",
        "  \n",
        "\n",
        "   def print(self):\n",
        "      pag = self.top\n",
        "      while pag != None:\n",
        "          print(pag.page)\n",
        "          pag = pag.next\n",
        "\n",
        "   def SeeTop(self):              #VENDO A PÁGINA ATUAL\n",
        "      if self.tam > 0:\n",
        "          pag = self.top\n",
        "          page = pag.page\n",
        "          return page\n",
        "      else: \n",
        "          return None\n",
        "    \n",
        "   \n",
        "   def IsEmpty(self):\n",
        "        return True if self.tamanho == 0 else False\n",
        "\n",
        "test = Nave() #chamando a pilha nave\n",
        "\n",
        "resp = 1\n",
        "\n",
        "while resp >= 1 and resp <=3:\n",
        "      print('Pagina atual: ', test.SeeTop())\n",
        "      resp = int(input(\"Digite:\\n1 para ir ao site\\n2 para voltar\\n3 para imprimir\\n4 para sair\\n\"))\n",
        "      if resp == 1:\n",
        "        test.NewPage(input(\"Digite o nome do site: \"))\n",
        "        test.print()\n",
        "      elif resp == 2:\n",
        "        test.GoBackPage()\n",
        "        test.print()\n",
        "      elif resp == 3:\n",
        "        test.print()\n",
        "      else:\n",
        "        print(\"Até logo\")\n",
        "\n",
        "\n"
      ],
      "metadata": {
        "colab": {
          "base_uri": "https://localhost:8080/"
        },
        "id": "ndTrZGYjMZ43",
        "outputId": "494cc5de-62f5-4868-e351-43bb7749bbbe"
      },
      "execution_count": null,
      "outputs": [
        {
          "output_type": "stream",
          "name": "stdout",
          "text": [
            "Pagina atual:  None\n",
            "Digite:\n",
            "1 para ir ao site\n",
            "2 para voltar\n",
            "3 para imprimir\n",
            "4 para sair\n",
            "1\n",
            "Digite o nome do site: twitter\n",
            "twitter\n",
            "Pagina atual:  twitter\n",
            "Digite:\n",
            "1 para ir ao site\n",
            "2 para voltar\n",
            "3 para imprimir\n",
            "4 para sair\n",
            "1\n",
            "Digite o nome do site: facebook\n",
            "facebook\n",
            "twitter\n",
            "Pagina atual:  facebook\n",
            "Digite:\n",
            "1 para ir ao site\n",
            "2 para voltar\n",
            "3 para imprimir\n",
            "4 para sair\n",
            "2\n",
            "twitter\n",
            "Pagina atual:  twitter\n",
            "Digite:\n",
            "1 para ir ao site\n",
            "2 para voltar\n",
            "3 para imprimir\n",
            "4 para sair\n",
            "4\n",
            "Até logo\n"
          ]
        }
      ]
    },
    {
      "cell_type": "markdown",
      "source": [
        "Você está implementando um sistema de controle de empilhadeira, que vai recebendo itens e empilhando estes itens. Cada item possui um peso associado de modo que você não pode colocar um item maior em cima de um item menor. Implemente um programa que recebe"
      ],
      "metadata": {
        "id": "y_YbebozW6wh"
      }
    },
    {
      "cell_type": "code",
      "source": [
        "class Celula:\n",
        "    item = None\n",
        "    next = None\n",
        "\n",
        "    def __init__(self, item):\n",
        "        self.item = item\n",
        "\n",
        "class Stack:    #pilha\n",
        "    top = None\n",
        "    tam = 0\n",
        "\n",
        "    def insert(self, item):\n",
        "      celula = Celula(item)    #chamando a classe celula \n",
        "      celula.next = self.top\n",
        "      self.top = celula\n",
        "      self.tam += 1\n",
        "\n",
        "    def remove(self):\n",
        "        if self.tam > 0:\n",
        "          celula = self.top\n",
        "          item = celula.item\n",
        "          self.top = celula.next\n",
        "          del celula\n",
        "          self.tam -= 1\n",
        "          return item\n",
        "        else:\n",
        "          print(\"ERRO: NÃO TEM ELEMENTOS NA PILHA\")\n",
        "      \n",
        "    def print(self):\n",
        "        print(\"-------\")\n",
        "        celula = self.top\n",
        "        while celula != None:\n",
        "          print(celula.item)\n",
        "          celula = celula.next\n",
        "        print(\"-------\")\n",
        "\n",
        "    def seeTop(self):\n",
        "      if self.tam > 0:\n",
        "        celula = self.top\n",
        "        item = celula.item\n",
        "        return item\n",
        "      else:\n",
        "        return None\n",
        "    \n",
        "    def isEmpty(self):\n",
        "      return True if self.tam == 0 else False\n"
      ],
      "metadata": {
        "id": "y1hOoGKpNzs-"
      },
      "execution_count": null,
      "outputs": []
    },
    {
      "cell_type": "code",
      "source": [
        "pilha_p = Stack()\n",
        "pilha_aux = Stack()\n",
        "\n",
        "lista_itens = [15,12,8,10,14]\n",
        "\n",
        "for item in lista_itens:\n",
        "    if pilha_p.isEmpty() or item <= pilha_p.seeTop():\n",
        "        pilha_p.insert(item)\n",
        "    else:\n",
        "        while not pilha_p.isEmpty() and pilha_p.seeTop() < item:\n",
        "            pilha_aux.insert(pilha_p.remove())\n",
        "        pilha_p.insert(item)\n",
        "        while not pilha_aux.isEmpty():\n",
        "            pilha_p.insert(pilha_aux.remove())\n",
        "    pilha_p.print()"
      ],
      "metadata": {
        "id": "sSy-ntu4x9xY",
        "colab": {
          "base_uri": "https://localhost:8080/"
        },
        "outputId": "aa329750-b3cb-41f0-8aec-852480d38846"
      },
      "execution_count": null,
      "outputs": [
        {
          "output_type": "stream",
          "name": "stdout",
          "text": [
            "-------\n",
            "15\n",
            "-------\n",
            "-------\n",
            "12\n",
            "15\n",
            "-------\n",
            "-------\n",
            "8\n",
            "12\n",
            "15\n",
            "-------\n",
            "-------\n",
            "8\n",
            "10\n",
            "12\n",
            "15\n",
            "-------\n",
            "-------\n",
            "8\n",
            "10\n",
            "12\n",
            "14\n",
            "15\n",
            "-------\n"
          ]
        }
      ]
    },
    {
      "cell_type": "code",
      "source": [
        "class Validate:\n",
        "    def validate_expression(self, exp):\n",
        "        stack = []\n",
        "\n",
        "        #dicionario com a abertura de cara expressao e o fechamento \n",
        "        opening = {\"(\", \"[\", \"{\"}\n",
        "        closing = {\")\", \"]\", \"}\"}\n",
        "\n",
        "        pairs = {\"(\": \")\", \"[\": \"]\", \"{\": \"}\"} #dicionario com os pares\n",
        "\n",
        "        for token in exp:\n",
        "            if token in opening:\n",
        "              print(\"opening: \" + token)\n",
        "              stack.append(token)\n",
        "            \n",
        "            elif token in closing:\n",
        "                print(\"closing: \" + token)\n",
        "                  # se stack está vazia\n",
        "                if not stack:\n",
        "                  return 0\n",
        "              \n",
        "                else:\n",
        "                    top = stack[-1]\n",
        "                    print(\"Top: \" + top)\n",
        "                    if pairs[top] == token:\n",
        "                      print(\"Pair[top]: \" + token)\n",
        "                      stack.pop()               #ao achar os pares, retiramos da stack\n",
        "                    else:\n",
        "                      return 0\n",
        "\n",
        "        # a lista não está vazia\n",
        "        if stack:\n",
        "          return 0\n",
        "            \n",
        "        return 1\n",
        "\n",
        "def main():\n",
        "\n",
        "  expression = Validate()\n",
        "\n",
        "  exp = input(\"Digite a expressão para validá-la: \")\n",
        "  print(expression.validate_expression(exp))\n",
        "\n",
        "main()"
      ],
      "metadata": {
        "colab": {
          "base_uri": "https://localhost:8080/"
        },
        "id": "VY-KKOLAhuUj",
        "outputId": "bc80a39a-4dc3-4523-a7ff-7977b62f6489"
      },
      "execution_count": null,
      "outputs": [
        {
          "output_type": "stream",
          "name": "stdout",
          "text": [
            "Digite a expressão para validá-la:  ( 5 + 1) * 2\n",
            "opening: (\n",
            "closing: )\n",
            "Top: (\n",
            "Pair[top]: )\n",
            "1\n"
          ]
        }
      ]
    }
  ]
}